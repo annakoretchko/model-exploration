{
 "cells": [
  {
   "cell_type": "markdown",
   "metadata": {},
   "source": [
    "# Comparing Bayes, Logistic, and KNN classifiers"
   ]
  },
  {
   "cell_type": "markdown",
   "metadata": {},
   "source": [
    "There are a myriad of classifiers out there, each with their own use case and rationale for when to be employed. This script goes through the results of Naive Bayes, Logisitc, and KNN all on the same sample dataset so that their results can be directly compared to one another. \n",
    "\n",
    "Then, I performed PC to project the data into two-dimensional space so that I can plot the data points and decision boundary of each classifier and visually compare the results. \n",
    "\n",
    "I hope you enjoy this exploration into each models efficacy!"
   ]
  },
  {
   "cell_type": "code",
   "execution_count": 2,
   "metadata": {},
   "outputs": [],
   "source": [
    "import numpy as np\n",
    "import csv\n",
    "from sklearn.model_selection import train_test_split\n",
    "from sklearn.naive_bayes import GaussianNB\n",
    "from sklearn.linear_model import LogisticRegression\n",
    "from sklearn.neighbors import KNeighborsClassifier\n",
    "import matplotlib.pyplot as plt\n",
    "from matplotlib.colors import ListedColormap"
   ]
  },
  {
   "cell_type": "code",
   "execution_count": 3,
   "metadata": {},
   "outputs": [],
   "source": [
    "\n",
    "raw = []\n",
    "with open('../data/marriage.csv') as cf:\n",
    "    readcsv = csv.reader(cf, delimiter=',')\n",
    "    for row in readcsv:\n",
    "        raw.append(row)\n",
    "        \n",
    "        data = np.array(raw).astype(np.float)\n",
    "x = data[:, 0:-1]\n",
    "y = data[:, -1]\n"
   ]
  },
  {
   "cell_type": "markdown",
   "metadata": {},
   "source": [
    "# **Functions to Create the Models**\n",
    "\n",
    "### *Logistic*"
   ]
  },
  {
   "cell_type": "code",
   "execution_count": 4,
   "metadata": {},
   "outputs": [],
   "source": [
    "def Logistic(x,y):\n",
    "    \n",
    "    # split the data\n",
    "    X_train, X_test, y_train, y_test = train_test_split(x, y, test_size=0.2)\n",
    "    ntest = len(y_test)\n",
    "    \n",
    "    # create logistic model with the training data\n",
    "    lr = LogisticRegression(random_state=0).fit(X_train, y_train)\n",
    "\n",
    "    # predict model on test set\n",
    "    y_pred_lr = lr.predict(X_test)\n",
    "    \n",
    "    # gets accuracy \n",
    "    acc_test = sum(y_pred_lr==y_test)/ntest\n",
    "    \n",
    "    \n",
    "    # creates confusion matrix of test results and displays accuracy \n",
    "    idx1 = np.where(y_test ==1) \n",
    "    idx2 = np.where(y_test ==2)\n",
    "    cf_test_11 = np.sum(y_test[idx1] == y_pred_lr[idx1])\n",
    "    cf_test_12 = np.sum(y_pred_lr[idx1] ==2)\n",
    "    cf_test_22 = np.sum(y_test[idx2] == y_pred_lr[idx2])\n",
    "    cf_test_21 = np.sum(y_pred_lr[idx2] ==1)\n",
    "\n",
    "\n",
    "    print('~~~~~~~~~~~~~~~~~~~~~LR~~~~~~~~~~~~~~~~~~~~~~~~~~~~~~~~')\n",
    "    print('Accuracy: '+ str(round(acc_test, 4))+\"\\n\")\n",
    "    print('Confusion Matrix:')\n",
    "    print('          predicted 1       predicted 2')\n",
    "    print(f\"true 1        {cf_test_11}                {cf_test_12}\")\n",
    "    print(f\"true 2        {cf_test_21}                {cf_test_22}\")\n",
    "    print(\"\\n\")\n",
    "    \n",
    "    return acc_test"
   ]
  },
  {
   "cell_type": "code",
   "execution_count": 5,
   "metadata": {},
   "outputs": [
    {
     "name": "stdout",
     "output_type": "stream",
     "text": [
      "~~~~~~~~~~~~~~~~~~~~~LR~~~~~~~~~~~~~~~~~~~~~~~~~~~~~~~~\n",
      "Accuracy: 1.0\n",
      "\n",
      "Confusion Matrix:\n",
      "          predicted 1       predicted 2\n",
      "true 1        19                0\n",
      "true 2        0                0\n",
      "\n",
      "\n"
     ]
    },
    {
     "data": {
      "text/plain": [
       "1.0"
      ]
     },
     "execution_count": 5,
     "metadata": {},
     "output_type": "execute_result"
    }
   ],
   "source": [
    "Logistic(x,y)"
   ]
  },
  {
   "cell_type": "markdown",
   "metadata": {},
   "source": [
    "### *KNN*"
   ]
  },
  {
   "cell_type": "code",
   "execution_count": 6,
   "metadata": {},
   "outputs": [],
   "source": [
    "def KNN(x,y):\n",
    "    \n",
    "    # split the data\n",
    "    Xtrain, Xtest, ytrain, ytest = train_test_split(x, y, test_size=0.2, random_state=1)\n",
    "    \n",
    "    # create the KNN model with the training data\n",
    "    clf = KNeighborsClassifier(n_neighbors = 3).fit(Xtrain, ytrain)\n",
    "\n",
    "    # predict model on test set\n",
    "    ypred_test = clf.predict(Xtest)\n",
    "    \n",
    "    # gets accuracy\n",
    "    matched_test = ypred_test == ytest\n",
    "    acc_test = sum(matched_test)/len(matched_test)\n",
    "\n",
    "    # creates confusion matrix of test results and displays accuracy \n",
    "    idx1 = np.where(ytest ==1) \n",
    "    idx2 = np.where(ytest ==2)\n",
    "    cf_test_11 = np.sum(ytest[idx1] == ypred_test[idx1])\n",
    "    cf_test_12 = np.sum(ypred_test[idx1] ==2)\n",
    "    cf_test_22 = np.sum(ytest[idx2] == ypred_test[idx2])\n",
    "    cf_test_21 = np.sum(ypred_test[idx2] ==1)\n",
    "\n",
    "    \n",
    "\n",
    "    print('~~~~~~~~~~~~~~~~~~~~~KNN~~~~~~~~~~~~~~~~~~~~~~~~~~~~~~~~')\n",
    "    print('Accuracy: '+ str(round(acc_test, 4))+\"\\n\")\n",
    "    print('Confusion Matrix:')\n",
    "    print('          predicted 1       predicted 2')\n",
    "    print(f\"true 1        {cf_test_11}                {cf_test_12}\")\n",
    "    print(f\"true 2        {cf_test_21}                {cf_test_22}\")\n",
    "    print(\"\\n\")\n",
    "    \n",
    "    return acc_test\n",
    "\n"
   ]
  },
  {
   "cell_type": "code",
   "execution_count": 7,
   "metadata": {},
   "outputs": [
    {
     "name": "stdout",
     "output_type": "stream",
     "text": [
      "~~~~~~~~~~~~~~~~~~~~~KNN~~~~~~~~~~~~~~~~~~~~~~~~~~~~~~~~\n",
      "Accuracy: 0.9412\n",
      "\n",
      "Confusion Matrix:\n",
      "          predicted 1       predicted 2\n",
      "true 1        13                0\n",
      "true 2        0                0\n",
      "\n",
      "\n"
     ]
    },
    {
     "data": {
      "text/plain": [
       "0.9411764705882353"
      ]
     },
     "execution_count": 7,
     "metadata": {},
     "output_type": "execute_result"
    }
   ],
   "source": [
    "KNN(x,y)"
   ]
  },
  {
   "cell_type": "markdown",
   "metadata": {},
   "source": [
    "### *Naive Bayes*"
   ]
  },
  {
   "cell_type": "code",
   "execution_count": 8,
   "metadata": {},
   "outputs": [],
   "source": [
    "def NaiveBayes(x,y):\n",
    "    \n",
    "    # split the data\n",
    "    Xtrain, Xtest, ytrain, ytest = train_test_split(x, y, test_size=0.2, random_state=1)\n",
    "    \n",
    "    # create the Bayes model with the training data\n",
    "    clf = GaussianNB(var_smoothing=1e-9,).fit(Xtrain, ytrain)\n",
    "\n",
    "    # predict model on test set\n",
    "    ypred_test = clf.predict(Xtest)\n",
    "    \n",
    "    # gets accuracy\n",
    "    matched_test = ypred_test == ytest\n",
    "    acc_test = sum(matched_test)/len(matched_test)\n",
    "\n",
    "    # creates confusion matrix of test results and displays accuracy \n",
    "    idx1 = np.where(ytest ==1) \n",
    "    idx2 = np.where(ytest ==2)\n",
    "    cf_test_11 = np.sum(ytest[idx1] == ypred_test[idx1])\n",
    "    cf_test_12 = np.sum(ypred_test[idx1] ==2)\n",
    "    cf_test_22 = np.sum(ytest[idx2] == ypred_test[idx2])\n",
    "    cf_test_21 = np.sum(ypred_test[idx2] ==1)\n",
    "\n",
    "\n",
    "    print('~~~~~~~~~~~~~~~~~~~~~BAYES~~~~~~~~~~~~~~~~~~~~~~~~~~~~~~~~')\n",
    "    print('Accuracy: '+ str(round(acc_test, 4))+\"\\n\")\n",
    "    print('Confusion Matrix:')\n",
    "    print('          predicted 1       predicted 2')\n",
    "    print(f\"true 1        {cf_test_11}                {cf_test_12}\")\n",
    "    print(f\"true 2        {cf_test_21}                {cf_test_22}\")\n",
    "    print(\"\\n\")\n",
    "    \n",
    "    return acc_test\n",
    "\n"
   ]
  },
  {
   "cell_type": "code",
   "execution_count": 9,
   "metadata": {},
   "outputs": [
    {
     "name": "stdout",
     "output_type": "stream",
     "text": [
      "~~~~~~~~~~~~~~~~~~~~~BAYES~~~~~~~~~~~~~~~~~~~~~~~~~~~~~~~~\n",
      "Accuracy: 0.9412\n",
      "\n",
      "Confusion Matrix:\n",
      "          predicted 1       predicted 2\n",
      "true 1        13                0\n",
      "true 2        0                0\n",
      "\n",
      "\n"
     ]
    },
    {
     "data": {
      "text/plain": [
       "0.9411764705882353"
      ]
     },
     "execution_count": 9,
     "metadata": {},
     "output_type": "execute_result"
    }
   ],
   "source": [
    "NaiveBayes(x,y)"
   ]
  },
  {
   "cell_type": "markdown",
   "metadata": {},
   "source": [
    "# Functions for PCA and Graph Plotting\n",
    "\n",
    "### *PCA*"
   ]
  },
  {
   "cell_type": "code",
   "execution_count": 10,
   "metadata": {},
   "outputs": [],
   "source": [
    "def pca2(x_):\n",
    "    \n",
    "    xc = (x_ - x_.mean(axis=0))\n",
    "    u, s, _ = np.linalg.svd(xc.T @ xc /len(xc))\n",
    "    xt = xc@u[:,0:2]@np.diag(s[0:2]**-1/2)\n",
    "    \n",
    "    return xt, u, s"
   ]
  },
  {
   "cell_type": "markdown",
   "metadata": {},
   "source": [
    "### *Plotting of Boundaries*"
   ]
  },
  {
   "cell_type": "code",
   "execution_count": 11,
   "metadata": {},
   "outputs": [],
   "source": [
    "def plot_decision_boundary(model, title, x_train, x_test, y_train):\n",
    "    \"\"\"\n",
    "    Function used to plot the decision boundary. This will help viually compare the results of each model. \n",
    "    \n",
    "    \"\"\"\n",
    "        \n",
    "    h = 0.005\n",
    "    cmap_light = ListedColormap(['#FFAAAA',  '#AAAAFF'])\n",
    "    cmap_bold = ListedColormap(['#FF0000',  '#0000FF'])\n",
    "\n",
    "    x_min, x_max = x_train[:,0].min(), x_train[:,0].max() \n",
    "    y_min, y_max = x_train[:,1].min(), x_train[:,1].max()\n",
    "\n",
    "    xx, yy = np.meshgrid(np.arange(x_min, x_max, h),\n",
    "                         np.arange(y_min, y_max, h))\n",
    "\n",
    "    Z = model.predict(np.c_[xx.ravel(), yy.ravel()])\n",
    "\n",
    "    # Put the result into a color plot\n",
    "    Z = Z.reshape(xx.shape)\n",
    "    plt.figure()\n",
    "    plt.pcolormesh(xx, yy, Z, cmap=cmap_light, shading='auto')\n",
    "\n",
    "    # Also plot the training points\n",
    "    plt.scatter(x_train[:,0], x_train[:,1], c=y_train, cmap=cmap_bold)\n",
    "    plt.xlim(xx.min(), xx.max())\n",
    "    plt.ylim(yy.min(), yy.max())\n",
    "    plt.title(title)"
   ]
  },
  {
   "cell_type": "markdown",
   "metadata": {},
   "source": [
    "## Finally, the main, to run the code"
   ]
  },
  {
   "cell_type": "code",
   "execution_count": 12,
   "metadata": {},
   "outputs": [
    {
     "name": "stdout",
     "output_type": "stream",
     "text": [
      ">>>>>>>>> Results Pre PCA <<<<<<<<<\n",
      "\n",
      "~~~~~~~~~~~~~~~~~~~~~LR~~~~~~~~~~~~~~~~~~~~~~~~~~~~~~~~\n",
      "Accuracy: 1.0\n",
      "\n",
      "Confusion Matrix:\n",
      "          predicted 1       predicted 2\n",
      "true 1        18                0\n",
      "true 2        0                0\n",
      "\n",
      "\n",
      "~~~~~~~~~~~~~~~~~~~~~KNN~~~~~~~~~~~~~~~~~~~~~~~~~~~~~~~~\n",
      "Accuracy: 0.9412\n",
      "\n",
      "Confusion Matrix:\n",
      "          predicted 1       predicted 2\n",
      "true 1        13                0\n",
      "true 2        0                0\n",
      "\n",
      "\n",
      "~~~~~~~~~~~~~~~~~~~~~BAYES~~~~~~~~~~~~~~~~~~~~~~~~~~~~~~~~\n",
      "Accuracy: 0.9412\n",
      "\n",
      "Confusion Matrix:\n",
      "          predicted 1       predicted 2\n",
      "true 1        13                0\n",
      "true 2        0                0\n",
      "\n",
      "\n",
      ">>>>>>>>> Results Post PCA <<<<<<<<<\n",
      "\n"
     ]
    },
    {
     "data": {
      "image/png": "[encoded data removed]",
      "text/plain": [
       "<Figure size 432x288 with 1 Axes>"
      ]
     },
     "metadata": {
      "needs_background": "light"
     },
     "output_type": "display_data"
    },
    {
     "data": {
      "image/png": "[encoded data removed]",
      "text/plain": [
       "<Figure size 432x288 with 1 Axes>"
      ]
     },
     "metadata": {
      "needs_background": "light"
     },
     "output_type": "display_data"
    },
    {
     "data": {
      "image/png": "[encoded data removed]",
      "text/plain": [
       "<Figure size 432x288 with 1 Axes>"
      ]
     },
     "metadata": {
      "needs_background": "light"
     },
     "output_type": "display_data"
    }
   ],
   "source": [
    "\n",
    "if __name__ == \"__main__\":\n",
    "    \n",
    "    print('>>>>>>>>> Results Pre PCA <<<<<<<<<\\n')\n",
    "    \n",
    "    acc_lr = Logistic(x,y)\n",
    "    acc_kn = KNN(x,y)\n",
    "    acc_nb = NaiveBayes(x,y)\n",
    "\n",
    "    print('>>>>>>>>> Results Post PCA <<<<<<<<<\\n')\n",
    "    # new test train split for PCA\n",
    "    X_tr, X_te, y_train, y_test = train_test_split(x,y, test_size=0.2)\n",
    "    X_train, u, s = pca2(X_tr)\n",
    "    X_test = (X_te-X_tr.mean(axis=0))@ u[:, 0:2] @np.diag(s[0:2]**-1/2)\n",
    "    \n",
    "    \n",
    "    # plot the decision boundary of each modes\n",
    "    lr = LogisticRegression(random_state=0).fit(X_train, y_train)\n",
    "    plot_decision_boundary(lr, 'Marriage: Logistic Regression',X_train, X_test, y_train)\n",
    "\n",
    "    kn = KNeighborsClassifier(n_neighbors=3).fit(X_train, y_train)\n",
    "    plot_decision_boundary(kn, 'Marriage: KNN', X_train, X_test, y_train)\n",
    "    \n",
    "    nb = GaussianNB().fit(X_train, y_train)\n",
    "    plot_decision_boundary(nb, 'Marriage: Naive Bayes', X_train, X_test, y_train)\n",
    "\n",
    "    \n",
    "    "
   ]
  },
  {
   "cell_type": "markdown",
   "metadata": {},
   "source": [
    "# **Analysis**"
   ]
  },
  {
   "cell_type": "markdown",
   "metadata": {},
   "source": [
    "This data set is rather small to distinguish large differences in the results of the accuracy; however, the the decision boundaries graph illuminates more information than the accuracy results. We can see here how each model forms its classifier boundaries in a robust manner. KNN appears to be more dynamic in nature, while Naive Bayes simply divides the classification in in a linear manner. This exploration is proof of concept to help me visually understand the behavior behind the underlining mathematics of each model. "
   ]
  }
 ],
 "metadata": {
  "kernelspec": {
   "display_name": "Python 3",
   "language": "python",
   "name": "python3"
  },
  "language_info": {
   "codemirror_mode": {
    "name": "ipython",
    "version": 3
   },
   "file_extension": ".py",
   "mimetype": "text/x-python",
   "name": "python",
   "nbconvert_exporter": "python",
   "pygments_lexer": "ipython3",
   "version": "3.8.5"
  }
 },
 "nbformat": 4,
 "nbformat_minor": 4
}
