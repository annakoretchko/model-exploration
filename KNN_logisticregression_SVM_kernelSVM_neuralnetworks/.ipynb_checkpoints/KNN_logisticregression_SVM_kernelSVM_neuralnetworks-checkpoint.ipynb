{
 "cells": [
  {
   "cell_type": "code",
   "execution_count": 19,
   "metadata": {},
   "outputs": [],
   "source": [
    "import numpy as np\n",
    "\n",
    "# from matplotlib.colors import ListedColormap\n",
    "from sklearn.metrics import pairwise_distances\n",
    "from sklearn.metrics import confusion_matrix\n",
    "import matplotlib.pyplot as plt\n",
    "from sklearn.metrics import classification_report\n",
    "from sklearn.linear_model import LogisticRegression\n",
    "from sklearn.neighbors import KNeighborsClassifier\n",
    "from sklearn.neural_network import MLPClassifier\n",
    "from sklearn.svm import SVC\n",
    "from scipy.spatial.distance import pdist\n",
    "import time"
   ]
  },
  {
   "cell_type": "code",
   "execution_count": 20,
   "metadata": {},
   "outputs": [],
   "source": [
    "########## LOADING DATASET ##########\n",
    "import scipy.io as sio\n",
    "data = sio.loadmat(\"../data/mnist_10digits.mat\")\n",
    "xtrain = data[\"xtrain\"]\n",
    "xtest = data[\"xtest\"]\n",
    "ytrain = data[\"ytrain\"].reshape(-1,)\n",
    "ytest = data[\"ytest\"].reshape(-1,)\n",
    "\n",
    "# down sampling and ntest to save time since constrained by local computer resources\n",
    "ntest = ytest.shape[0]\n",
    "ndownsample = 5000\n",
    "\n",
    "xtrain = xtrain/255;\n",
    "xtest  = xtest/255;\n"
   ]
  },
  {
   "cell_type": "code",
   "execution_count": 21,
   "metadata": {},
   "outputs": [],
   "source": [
    "def logisitc_regression(xtrain,ytrain,xtest,ytest):\n",
    "\n",
    "    \"\"\"\n",
    "    Logistic Regression Model \n",
    "    \"\"\"\n",
    "    \n",
    "    # timing \n",
    "    time0 = time.time()\n",
    "    \n",
    "    # train the model\n",
    "    clf = LogisticRegression(random_state=0,max_iter=200, solver='liblinear',multi_class='auto').fit(xtrain, ytrain)\n",
    "\n",
    "    # performance evaluation\n",
    "    y_pred_lr = clf.predict(xtest)\n",
    "    acc_lr = sum(y_pred_lr==ytest)/ntest\n",
    "    \n",
    "    \n",
    "    # time to train and test\n",
    "    time1 = time.time()\n",
    "    \n",
    "    # getting confusion matrix\n",
    "    conf_nn = confusion_matrix(ytest, y_pred_lr)\n",
    "    \n",
    "    print(\"\\n\")\n",
    "    print(\"####### Logistic Regression Results #######\\n\")\n",
    "    print('running time: ', round((time1-time0), 2), 'seconds\\n')\n",
    "    print(\"Confusion Matrix\\n\")\n",
    "    print(conf_nn)\n",
    "    print(\"\\n\")\n",
    "    \n",
    "    # visual of confusion matrix\n",
    "    plt.imshow(conf_nn, cmap=\"hot\")\n",
    "    plt.colorbar()\n",
    "    plt.title('Logistic Regression') \n",
    "    plt.show()\n",
    "    print(\"\\n\")\n",
    "    \n",
    "    print(\"Additional Results\\n\")\n",
    "    print(classification_report(ytest,y_pred_lr))\n",
    "    print(\"\\n\")\n",
    "    print('Accuracy:',acc_lr)\n",
    "    print(\"\\n\")\n",
    "    \n",
    "    return round((time1-time0), 2) , acc_lr"
   ]
  },
  {
   "cell_type": "code",
   "execution_count": 22,
   "metadata": {},
   "outputs": [
    {
     "name": "stdout",
     "output_type": "stream",
     "text": [
      "\n",
      "\n",
      "####### Logistic Regression Results #######\n",
      "\n",
      "running time:  65.5 seconds\n",
      "\n",
      "Confusion Matrix\n",
      "\n",
      "[[ 960    0    1    2    0    5    6    3    1    2]\n",
      " [   0 1112    3    1    0    1    5    1   12    0]\n",
      " [   8    8  920   20    9    5   10   11   37    4]\n",
      " [   4    0   17  919    2   22    4   12   21    9]\n",
      " [   1    2    5    3  914    0   10    2    7   38]\n",
      " [  10    2    0   42   10  769   17    7   28    7]\n",
      " [   9    3    7    2    6   20  907    1    3    0]\n",
      " [   2    7   22    5    8    1    1  950    5   27]\n",
      " [  10   14    5   21   14   27    7   11  853   12]\n",
      " [   8    8    2   13   31   14    0   24   12  897]]\n",
      "\n",
      "\n"
     ]
    },
    {
     "data": {
      "image/png": "[encoded data removed]",
      "text/plain": [
       "<Figure size 432x288 with 2 Axes>"
      ]
     },
     "metadata": {
      "needs_background": "light"
     },
     "output_type": "display_data"
    },
    {
     "name": "stdout",
     "output_type": "stream",
     "text": [
      "\n",
      "\n",
      "Additional Results\n",
      "\n",
      "              precision    recall  f1-score   support\n",
      "\n",
      "           0       0.95      0.98      0.96       980\n",
      "           1       0.96      0.98      0.97      1135\n",
      "           2       0.94      0.89      0.91      1032\n",
      "           3       0.89      0.91      0.90      1010\n",
      "           4       0.92      0.93      0.93       982\n",
      "           5       0.89      0.86      0.88       892\n",
      "           6       0.94      0.95      0.94       958\n",
      "           7       0.93      0.92      0.93      1028\n",
      "           8       0.87      0.88      0.87       974\n",
      "           9       0.90      0.89      0.89      1009\n",
      "\n",
      "    accuracy                           0.92     10000\n",
      "   macro avg       0.92      0.92      0.92     10000\n",
      "weighted avg       0.92      0.92      0.92     10000\n",
      "\n",
      "\n",
      "\n",
      "Accuracy: 0.9201\n",
      "\n",
      "\n"
     ]
    }
   ],
   "source": [
    "logisitc_regression(xtrain,ytrain,xtest,ytest)"
   ]
  },
  {
   "cell_type": "code",
   "execution_count": 23,
   "metadata": {},
   "outputs": [],
   "source": [
    "def neural_networks(xtrain,ytrain,xtest,ytest):\n",
    "\n",
    "    \"\"\"\n",
    "    Neural Network\n",
    "    \"\"\"\n",
    "    \n",
    "    # timing \n",
    "    time0 = time.time()\n",
    "    \n",
    "    # training model\n",
    "    mlp = MLPClassifier(hidden_layer_sizes=(20, 10), max_iter=500, random_state=0).fit(xtrain,ytrain)\n",
    "\n",
    "    # performance evaluation\n",
    "    y_pred_nn = mlp.predict(xtest)\n",
    "    acc_nn = sum(y_pred_nn==ytest)/ntest\n",
    "    \n",
    "    # time to train and test\n",
    "    time1 = time.time()\n",
    "    \n",
    "    # getting confusion matrix\n",
    "    conf_nn = confusion_matrix(ytest, y_pred_nn)\n",
    "    \n",
    "    print(\"\\n\")\n",
    "    print(\"####### Neural Network Results #######\\n\")\n",
    "    print('running time: ', round((time1-time0), 2), 'seconds\\n')\n",
    "    print(\"Confusion Matrix\\n\")\n",
    "    print(conf_nn)\n",
    "    print(\"\\n\")\n",
    "    \n",
    "    # visual of confusion matrix\n",
    "    plt.imshow(conf_nn, cmap=\"hot\")\n",
    "    plt.colorbar()\n",
    "    plt.title('Neural Network') \n",
    "    plt.show()\n",
    "    print(\"\\n\")\n",
    "    \n",
    "    print(\"Additional Results\\n\")\n",
    "    print(classification_report(ytest,y_pred_nn))\n",
    "    print(\"\\n\")\n",
    "    \n",
    "    return round((time1-time0), 2) , acc_nn"
   ]
  },
  {
   "cell_type": "code",
   "execution_count": 24,
   "metadata": {},
   "outputs": [
    {
     "name": "stdout",
     "output_type": "stream",
     "text": [
      "\n",
      "\n",
      "####### Neural Network Results #######\n",
      "\n",
      "running time:  188.8 seconds\n",
      "\n",
      "Confusion Matrix\n",
      "\n",
      "[[ 948    0    7    3    1    4   11    1    3    2]\n",
      " [   0 1116    4    2    1    0    2    2    6    2]\n",
      " [   3   10  965   17    6    0    3   11   13    4]\n",
      " [   1    0   18  950    1   21    1   14    2    2]\n",
      " [   2    0    4    0  939    2   11    5    4   15]\n",
      " [   4    3    1   17    3  837    8    9    6    4]\n",
      " [   8    3    3    0    5   11  924    0    3    1]\n",
      " [   0   10   15    9    1    4    0  976    3   10]\n",
      " [   6    7   10   24    5   21    2    6  888    5]\n",
      " [   6    8    3    6   21    3    1   15   10  936]]\n",
      "\n",
      "\n"
     ]
    },
    {
     "data": {
      "image/png": "[encoded data removed]",
      "text/plain": [
       "<Figure size 432x288 with 2 Axes>"
      ]
     },
     "metadata": {
      "needs_background": "light"
     },
     "output_type": "display_data"
    },
    {
     "name": "stdout",
     "output_type": "stream",
     "text": [
      "\n",
      "\n",
      "Additional Results\n",
      "\n",
      "              precision    recall  f1-score   support\n",
      "\n",
      "           0       0.97      0.97      0.97       980\n",
      "           1       0.96      0.98      0.97      1135\n",
      "           2       0.94      0.94      0.94      1032\n",
      "           3       0.92      0.94      0.93      1010\n",
      "           4       0.96      0.96      0.96       982\n",
      "           5       0.93      0.94      0.93       892\n",
      "           6       0.96      0.96      0.96       958\n",
      "           7       0.94      0.95      0.94      1028\n",
      "           8       0.95      0.91      0.93       974\n",
      "           9       0.95      0.93      0.94      1009\n",
      "\n",
      "    accuracy                           0.95     10000\n",
      "   macro avg       0.95      0.95      0.95     10000\n",
      "weighted avg       0.95      0.95      0.95     10000\n",
      "\n",
      "\n",
      "\n"
     ]
    }
   ],
   "source": [
    "neural_networks(xtrain,ytrain,xtest,ytest)"
   ]
  },
  {
   "cell_type": "code",
   "execution_count": 25,
   "metadata": {},
   "outputs": [],
   "source": [
    "def knn(xtrain,ytrain,xtest,ytest):\n",
    "    \n",
    "    \"\"\"\n",
    "    KNN model\n",
    "    \"\"\"\n",
    "    \n",
    "    # timing \n",
    "    time0 = time.time()\n",
    "\n",
    "    \n",
    "    # training model\n",
    "    clf = KNeighborsClassifier(n_neighbors = 3).fit(xtrain[0:ndownsample], ytrain[0:ndownsample])\n",
    "\n",
    "    # performance evaluation\n",
    "    y_pred_knn = clf.predict(xtest)\n",
    "    acc_knn = sum(y_pred_knn==ytest)/ntest\n",
    "\n",
    "    # time to train and test\n",
    "    time1 = time.time()\n",
    "    \n",
    "    \n",
    "    # getting confusion matrix\n",
    "    conf_knn = confusion_matrix(ytest, y_pred_knn)\n",
    "    \n",
    "    print(\"\\n\")\n",
    "    print(\"####### KNN Results #######\\n\")\n",
    "    print('running time: ', round((time1-time0), 2), 'seconds\\n')\n",
    "    print(\"Confusion Matrix\\n\")\n",
    "    print(conf_knn)\n",
    "    print(\"\\n\")\n",
    "    \n",
    "    # visual of confusion matrix\n",
    "    plt.imshow(conf_knn, cmap=\"hot\")\n",
    "    plt.colorbar()\n",
    "    plt.title('KNN') \n",
    "    plt.show()\n",
    "    print(\"\\n\")\n",
    "    \n",
    "    print(\"Additional Results\\n\")\n",
    "    print(classification_report(ytest,y_pred_knn))\n",
    "    print(\"\\n\")\n",
    "    \n",
    "    return round((time1-time0), 2) , acc_knn"
   ]
  },
  {
   "cell_type": "code",
   "execution_count": 26,
   "metadata": {},
   "outputs": [
    {
     "name": "stdout",
     "output_type": "stream",
     "text": [
      "\n",
      "\n",
      "####### KNN Results #######\n",
      "\n",
      "running time:  47.58 seconds\n",
      "\n",
      "Confusion Matrix\n",
      "\n",
      "[[ 970    1    1    0    0    1    5    1    1    0]\n",
      " [   0 1130    0    2    0    0    3    0    0    0]\n",
      " [  18   32  941    6    2    0    6   21    6    0]\n",
      " [   4    9    9  927    1   27    1   10   16    6]\n",
      " [   1   23    2    0  906    0    9    1    0   40]\n",
      " [   7    5    1   29    7  816   13    1    6    7]\n",
      " [  13    7    0    0    4    4  930    0    0    0]\n",
      " [   1   41    6    2    8    1    0  945    0   24]\n",
      " [  21    8   16   22   10   21    4   10  839   23]\n",
      " [   6    9    3    9   23    4    1   16    3  935]]\n",
      "\n",
      "\n"
     ]
    },
    {
     "data": {
      "image/png": "[encoded data removed]",
      "text/plain": [
       "<Figure size 432x288 with 2 Axes>"
      ]
     },
     "metadata": {
      "needs_background": "light"
     },
     "output_type": "display_data"
    },
    {
     "name": "stdout",
     "output_type": "stream",
     "text": [
      "\n",
      "\n",
      "Additional Results\n",
      "\n",
      "              precision    recall  f1-score   support\n",
      "\n",
      "           0       0.93      0.99      0.96       980\n",
      "           1       0.89      1.00      0.94      1135\n",
      "           2       0.96      0.91      0.94      1032\n",
      "           3       0.93      0.92      0.92      1010\n",
      "           4       0.94      0.92      0.93       982\n",
      "           5       0.93      0.91      0.92       892\n",
      "           6       0.96      0.97      0.96       958\n",
      "           7       0.94      0.92      0.93      1028\n",
      "           8       0.96      0.86      0.91       974\n",
      "           9       0.90      0.93      0.91      1009\n",
      "\n",
      "    accuracy                           0.93     10000\n",
      "   macro avg       0.94      0.93      0.93     10000\n",
      "weighted avg       0.93      0.93      0.93     10000\n",
      "\n",
      "\n",
      "\n"
     ]
    }
   ],
   "source": [
    "knn(xtrain,ytrain,xtest,ytest)"
   ]
  },
  {
   "cell_type": "markdown",
   "metadata": {},
   "source": [
    "#    SVM  "
   ]
  },
  {
   "cell_type": "code",
   "execution_count": 27,
   "metadata": {},
   "outputs": [],
   "source": [
    "def kernel_svm(xtrain,ytrain,xtest,ytest):\n",
    "    \n",
    "    \"\"\"\n",
    "    Kernel SVM model\n",
    "    \"\"\"\n",
    "    \n",
    "    # timing \n",
    "    time0 = time.time()\n",
    "\n",
    "    \n",
    "    # getting pair_wise_distance for kernel \n",
    "    first = pdist(xtrain[0:ndownsample], 'sqeuclidean')\n",
    "    median = np.median(first)\n",
    "    sigma = (median/2)**(1/2)\n",
    "  \n",
    "    # training model\n",
    "    sv = SVC(kernel='rbf', random_state=1,gamma = 'scale', C=sigma).fit(xtrain[0:ndownsample],ytrain[0:ndownsample])\n",
    "\n",
    "    # performance evaluation\n",
    "    y_pred_sv_ker = sv.predict(xtest)\n",
    "    acc_sv_ker = sum(y_pred_sv_ker==ytest)/ntest\n",
    "\n",
    "    # time to train and test\n",
    "    time1 = time.time()\n",
    "    \n",
    "    \n",
    "    # getting confusion matrix\n",
    "    conf_sv_ker = confusion_matrix(ytest, y_pred_sv_ker)\n",
    "    \n",
    "    print(\"\\n\")\n",
    "    print(\"####### Kernel SVM Results #######\\n\")\n",
    "    print('running time: ', round((time1-time0), 2), 'seconds\\n')\n",
    "    print(\"Confusion Matrix\\n\")\n",
    "    print(conf_sv_ker)\n",
    "    print(\"\\n\")\n",
    "    \n",
    "    # visual of confusion matrix\n",
    "    plt.imshow(conf_sv_ker, cmap=\"hot\")\n",
    "    plt.colorbar()\n",
    "    plt.title('Kernel SVM') \n",
    "    plt.show()\n",
    "    print(\"\\n\")\n",
    "    \n",
    "    print(\"Additional Results\\n\")\n",
    "    print(classification_report(ytest,y_pred_sv_ker))\n",
    "    print(\"\\n\")\n",
    "    \n",
    "    return round((time1-time0), 2) , acc_sv_ker"
   ]
  },
  {
   "cell_type": "code",
   "execution_count": null,
   "metadata": {},
   "outputs": [],
   "source": [
    "kernel_svm(xtrain,ytrain,xtest,ytest)"
   ]
  },
  {
   "cell_type": "code",
   "execution_count": null,
   "metadata": {},
   "outputs": [],
   "source": [
    "def linear_svm(xtrain,ytrain,xtest,ytest):\n",
    "    \n",
    "    \"\"\"\n",
    "    Linear SVM model\n",
    "    \"\"\"\n",
    "    \n",
    "    # timing \n",
    "    time0 = time.time()\n",
    "  \n",
    "    # training model\n",
    "    sv = SVC(kernel='linear', random_state=0).fit(xtrain[0:ndownsample],ytrain[0:ndownsample])\n",
    "    \n",
    "    # performance evaluation\n",
    "    y_pred_sv = sv.predict(xtest)\n",
    "    acc_sv = sum(y_pred_sv==ytest)/ntest\n",
    "\n",
    "    # time to train and test\n",
    "    time1 = time.time()\n",
    "    \n",
    "    \n",
    "    # getting confusion matrix\n",
    "    conf_sv = confusion_matrix(ytest, y_pred_sv)\n",
    "    \n",
    "    print(\"\\n\")\n",
    "    print(\"####### Linear SVM Results #######\\n\")\n",
    "    print('running time: ', round((time1-time0), 2), 'seconds\\n')\n",
    "    print(\"Confusion Matrix\\n\")\n",
    "    print(y_pred_sv)\n",
    "    print(\"\\n\")\n",
    "    \n",
    "    # visual of confusion matrix\n",
    "    plt.imshow(conf_sv, cmap=\"hot\")\n",
    "    plt.colorbar()\n",
    "    plt.title('Linear SVM') \n",
    "    plt.show()\n",
    "    print(\"\\n\")\n",
    "    \n",
    "    print(\"Additional Results\\n\")\n",
    "    print(classification_report(ytest,y_pred_sv))\n",
    "    print(\"\\n\")\n",
    "    \n",
    "    return round((time1-time0), 2) , acc_sv"
   ]
  },
  {
   "cell_type": "code",
   "execution_count": null,
   "metadata": {},
   "outputs": [],
   "source": [
    "linear_svm(xtrain,ytrain,xtest,ytest)"
   ]
  },
  {
   "cell_type": "code",
   "execution_count": 18,
   "metadata": {},
   "outputs": [
    {
     "name": "stdout",
     "output_type": "stream",
     "text": [
      "\n",
      "\n",
      "####### Logistic Regression Results #######\n",
      "\n",
      "running time:  67.76 seconds\n",
      "\n",
      "Confusion Matrix\n",
      "\n",
      "[[ 960    0    1    2    0    5    6    3    1    2]\n",
      " [   0 1112    3    1    0    1    5    1   12    0]\n",
      " [   8    8  920   20    9    5   10   11   37    4]\n",
      " [   4    0   17  919    2   22    4   12   21    9]\n",
      " [   1    2    5    3  914    0   10    2    7   38]\n",
      " [  10    2    0   42   10  769   17    7   28    7]\n",
      " [   9    3    7    2    6   20  907    1    3    0]\n",
      " [   2    7   22    5    8    1    1  950    5   27]\n",
      " [  10   14    5   21   14   27    7   11  853   12]\n",
      " [   8    8    2   13   31   14    0   24   12  897]]\n",
      "\n",
      "\n"
     ]
    },
    {
     "data": {
      "image/png": "[encoded data removed]",
      "text/plain": [
       "<Figure size 432x288 with 2 Axes>"
      ]
     },
     "metadata": {
      "needs_background": "light"
     },
     "output_type": "display_data"
    },
    {
     "name": "stdout",
     "output_type": "stream",
     "text": [
      "\n",
      "\n",
      "Additional Results\n",
      "\n",
      "              precision    recall  f1-score   support\n",
      "\n",
      "           0       0.95      0.98      0.96       980\n",
      "           1       0.96      0.98      0.97      1135\n",
      "           2       0.94      0.89      0.91      1032\n",
      "           3       0.89      0.91      0.90      1010\n",
      "           4       0.92      0.93      0.93       982\n",
      "           5       0.89      0.86      0.88       892\n",
      "           6       0.94      0.95      0.94       958\n",
      "           7       0.93      0.92      0.93      1028\n",
      "           8       0.87      0.88      0.87       974\n",
      "           9       0.90      0.89      0.89      1009\n",
      "\n",
      "    accuracy                           0.92     10000\n",
      "   macro avg       0.92      0.92      0.92     10000\n",
      "weighted avg       0.92      0.92      0.92     10000\n",
      "\n",
      "\n",
      "\n",
      "Accuracy: 0.9201\n",
      "\n",
      "\n",
      "\n",
      "\n",
      "####### Neural Network Results #######\n",
      "\n",
      "running time:  194.15 seconds\n",
      "\n",
      "Confusion Matrix\n",
      "\n",
      "[[ 948    0    7    3    1    4   11    1    3    2]\n",
      " [   0 1116    4    2    1    0    2    2    6    2]\n",
      " [   3   10  965   17    6    0    3   11   13    4]\n",
      " [   1    0   18  950    1   21    1   14    2    2]\n",
      " [   2    0    4    0  939    2   11    5    4   15]\n",
      " [   4    3    1   17    3  837    8    9    6    4]\n",
      " [   8    3    3    0    5   11  924    0    3    1]\n",
      " [   0   10   15    9    1    4    0  976    3   10]\n",
      " [   6    7   10   24    5   21    2    6  888    5]\n",
      " [   6    8    3    6   21    3    1   15   10  936]]\n",
      "\n",
      "\n"
     ]
    },
    {
     "data": {
      "image/png": "[encoded data removed]",
      "text/plain": [
       "<Figure size 432x288 with 2 Axes>"
      ]
     },
     "metadata": {
      "needs_background": "light"
     },
     "output_type": "display_data"
    },
    {
     "name": "stdout",
     "output_type": "stream",
     "text": [
      "\n",
      "\n",
      "Additional Results\n",
      "\n",
      "              precision    recall  f1-score   support\n",
      "\n",
      "           0       0.97      0.97      0.97       980\n",
      "           1       0.96      0.98      0.97      1135\n",
      "           2       0.94      0.94      0.94      1032\n",
      "           3       0.92      0.94      0.93      1010\n",
      "           4       0.96      0.96      0.96       982\n",
      "           5       0.93      0.94      0.93       892\n",
      "           6       0.96      0.96      0.96       958\n",
      "           7       0.94      0.95      0.94      1028\n",
      "           8       0.95      0.91      0.93       974\n",
      "           9       0.95      0.93      0.94      1009\n",
      "\n",
      "    accuracy                           0.95     10000\n",
      "   macro avg       0.95      0.95      0.95     10000\n",
      "weighted avg       0.95      0.95      0.95     10000\n",
      "\n",
      "\n",
      "\n",
      "\n",
      "\n",
      "####### KNN Results #######\n",
      "\n",
      "running time:  47.73 seconds\n",
      "\n",
      "Confusion Matrix\n",
      "\n",
      "[[ 970    1    1    0    0    1    5    1    1    0]\n",
      " [   0 1130    0    2    0    0    3    0    0    0]\n",
      " [  18   32  941    6    2    0    6   21    6    0]\n",
      " [   4    9    9  927    1   27    1   10   16    6]\n",
      " [   1   23    2    0  906    0    9    1    0   40]\n",
      " [   7    5    1   29    7  816   13    1    6    7]\n",
      " [  13    7    0    0    4    4  930    0    0    0]\n",
      " [   1   41    6    2    8    1    0  945    0   24]\n",
      " [  21    8   16   22   10   21    4   10  839   23]\n",
      " [   6    9    3    9   23    4    1   16    3  935]]\n",
      "\n",
      "\n"
     ]
    },
    {
     "data": {
      "image/png": "[encoded data removed]",
      "text/plain": [
       "<Figure size 432x288 with 2 Axes>"
      ]
     },
     "metadata": {
      "needs_background": "light"
     },
     "output_type": "display_data"
    },
    {
     "name": "stdout",
     "output_type": "stream",
     "text": [
      "\n",
      "\n",
      "Additional Results\n",
      "\n",
      "              precision    recall  f1-score   support\n",
      "\n",
      "           0       0.93      0.99      0.96       980\n",
      "           1       0.89      1.00      0.94      1135\n",
      "           2       0.96      0.91      0.94      1032\n",
      "           3       0.93      0.92      0.92      1010\n",
      "           4       0.94      0.92      0.93       982\n",
      "           5       0.93      0.91      0.92       892\n",
      "           6       0.96      0.97      0.96       958\n",
      "           7       0.94      0.92      0.93      1028\n",
      "           8       0.96      0.86      0.91       974\n",
      "           9       0.90      0.93      0.91      1009\n",
      "\n",
      "    accuracy                           0.93     10000\n",
      "   macro avg       0.94      0.93      0.93     10000\n",
      "weighted avg       0.93      0.93      0.93     10000\n",
      "\n",
      "\n",
      "\n",
      "\n",
      "\n",
      "####### Kernel SVM Results #######\n",
      "\n",
      "running time:  30.97 seconds\n",
      "\n",
      "Confusion Matrix\n",
      "\n",
      "[[ 969    0    2    0    1    2    2    1    3    0]\n",
      " [   0 1122    4    1    0    1    3    1    3    0]\n",
      " [   8    4  982   10    5    0    7    9    6    1]\n",
      " [   1    0   11  960    1   12    1    9    8    7]\n",
      " [   1    0    3    0  952    0    6    3    0   17]\n",
      " [   6    2    2    9    7  846   10    1    6    3]\n",
      " [   7    3    2    0    7    6  930    0    3    0]\n",
      " [   0   17   17    4    9    0    1  958    0   22]\n",
      " [   6    1    3   13    8   13    2    5  913   10]\n",
      " [   4    7    2    9   28    4    0    8   10  937]]\n",
      "\n",
      "\n"
     ]
    },
    {
     "data": {
      "image/png": "[encoded data removed]",
      "text/plain": [
       "<Figure size 432x288 with 2 Axes>"
      ]
     },
     "metadata": {
      "needs_background": "light"
     },
     "output_type": "display_data"
    },
    {
     "name": "stdout",
     "output_type": "stream",
     "text": [
      "\n",
      "\n",
      "Additional Results\n",
      "\n",
      "              precision    recall  f1-score   support\n",
      "\n",
      "           0       0.97      0.99      0.98       980\n",
      "           1       0.97      0.99      0.98      1135\n",
      "           2       0.96      0.95      0.95      1032\n",
      "           3       0.95      0.95      0.95      1010\n",
      "           4       0.94      0.97      0.95       982\n",
      "           5       0.96      0.95      0.95       892\n",
      "           6       0.97      0.97      0.97       958\n",
      "           7       0.96      0.93      0.95      1028\n",
      "           8       0.96      0.94      0.95       974\n",
      "           9       0.94      0.93      0.93      1009\n",
      "\n",
      "    accuracy                           0.96     10000\n",
      "   macro avg       0.96      0.96      0.96     10000\n",
      "weighted avg       0.96      0.96      0.96     10000\n",
      "\n",
      "\n",
      "\n",
      "\n",
      "\n",
      "####### Linear SVM Results #######\n",
      "\n",
      "running time:  14.53 seconds\n",
      "\n",
      "Confusion Matrix\n",
      "\n",
      "[7 2 1 ... 4 5 6]\n",
      "\n",
      "\n"
     ]
    },
    {
     "data": {
      "image/png": "[encoded data removed]",
      "text/plain": [
       "<Figure size 432x288 with 2 Axes>"
      ]
     },
     "metadata": {
      "needs_background": "light"
     },
     "output_type": "display_data"
    },
    {
     "name": "stdout",
     "output_type": "stream",
     "text": [
      "\n",
      "\n",
      "Additional Results\n",
      "\n",
      "              precision    recall  f1-score   support\n",
      "\n",
      "           0       0.94      0.97      0.96       980\n",
      "           1       0.96      0.99      0.97      1135\n",
      "           2       0.89      0.90      0.89      1032\n",
      "           3       0.88      0.90      0.89      1010\n",
      "           4       0.87      0.95      0.91       982\n",
      "           5       0.88      0.87      0.87       892\n",
      "           6       0.95      0.92      0.94       958\n",
      "           7       0.92      0.90      0.91      1028\n",
      "           8       0.90      0.83      0.86       974\n",
      "           9       0.90      0.87      0.88      1009\n",
      "\n",
      "    accuracy                           0.91     10000\n",
      "   macro avg       0.91      0.91      0.91     10000\n",
      "weighted avg       0.91      0.91      0.91     10000\n",
      "\n",
      "\n",
      "\n"
     ]
    }
   ],
   "source": [
    "if __name__ == \"__main__\":\n",
    "    \n",
    "    # run all together\n",
    "    logisitc_regression(xtrain,ytrain,xtest,ytest)\n",
    "    neural_networks(xtrain,ytrain,xtest,ytest)\n",
    "    knn(xtrain,ytrain,xtest,ytest)\n",
    "    kernel_svm(xtrain,ytrain,xtest,ytest)\n",
    "    linear_svm(xtrain,ytrain,xtest,ytest)\n"
   ]
  },
  {
   "cell_type": "markdown",
   "metadata": {},
   "source": [
    "# Analysis\n",
    "Words here"
   ]
  }
 ],
 "metadata": {
  "kernelspec": {
   "display_name": "Python 3",
   "language": "python",
   "name": "python3"
  },
  "language_info": {
   "codemirror_mode": {
    "name": "ipython",
    "version": 3
   },
   "file_extension": ".py",
   "mimetype": "text/x-python",
   "name": "python",
   "nbconvert_exporter": "python",
   "pygments_lexer": "ipython3",
   "version": "3.8.5"
  }
 },
 "nbformat": 4,
 "nbformat_minor": 4
}
